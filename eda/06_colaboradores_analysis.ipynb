{
  "cells": [
    {
      "cell_type": "code",
      "execution_count": 1,
      "metadata": {},
      "outputs": [],
      "source": [
        "import pandas as pd\n",
        "import numpy as np\n",
        "import matplotlib.pyplot as plt\n",
        "import seaborn as sns\n",
        "%matplotlib inline\n"
      ]
    },
    {
      "cell_type": "code",
      "execution_count": 2,
      "metadata": {},
      "outputs": [
        {
          "name": "stdout",
          "output_type": "stream",
          "text": [
            "✅ Loaded 100 employee records\n",
            "Converting date column...\n",
            "data_nascimento dtype: datetime64[ns]\n",
            "data_nascimento is datetime: True\n",
            "✅ data_nascimento localized to UTC\n",
            "✅ Date column processed successfully\n"
          ]
        }
      ],
      "source": [
        "# Load employees dataset\n",
        "df_colaboradores = pd.read_csv('../banvic/seeds/banvic/colaboradores.csv')\n",
        "print(f\"✅ Loaded {len(df_colaboradores):,} employee records\")\n",
        "\n",
        "# Convert date column with proper error handling\n",
        "print(\"Converting date column...\")\n",
        "df_colaboradores['data_nascimento'] = pd.to_datetime(df_colaboradores['data_nascimento'], format='mixed', errors='coerce')\n",
        "\n",
        "# Verify datetime conversion\n",
        "print(f\"data_nascimento dtype: {df_colaboradores['data_nascimento'].dtype}\")\n",
        "print(f\"data_nascimento is datetime: {pd.api.types.is_datetime64_any_dtype(df_colaboradores['data_nascimento'])}\")\n",
        "\n",
        "# Make data_nascimento timezone-aware (assuming UTC if no timezone info)\n",
        "if pd.api.types.is_datetime64_any_dtype(df_colaboradores['data_nascimento']):\n",
        "    if df_colaboradores['data_nascimento'].dt.tz is None:\n",
        "        df_colaboradores['data_nascimento'] = df_colaboradores['data_nascimento'].dt.tz_localize('UTC')\n",
        "        print(\"✅ data_nascimento localized to UTC\")\n",
        "    else:\n",
        "        df_colaboradores['data_nascimento'] = df_colaboradores['data_nascimento'].dt.tz_convert('UTC')\n",
        "        print(\"✅ data_nascimento converted to UTC\")\n",
        "else:\n",
        "    print(\"❌ data_nascimento is not a datetime column!\")\n",
        "\n",
        "print(\"✅ Date column processed successfully\")\n"
      ]
    },
    {
      "cell_type": "code",
      "execution_count": 3,
      "metadata": {},
      "outputs": [
        {
          "name": "stdout",
          "output_type": "stream",
          "text": [
            "Debugging data_nascimento column...\n",
            "Data type: datetime64[ns, UTC]\n",
            "Sample values: 0   1974-04-24 00:00:00+00:00\n",
            "1   1994-07-10 00:00:00+00:00\n",
            "2   1986-12-18 00:00:00+00:00\n",
            "3   1994-10-19 00:00:00+00:00\n",
            "4   1996-03-01 00:00:00+00:00\n",
            "Name: data_nascimento, dtype: datetime64[ns, UTC]\n",
            "Is datetime: True\n",
            "Fixing timezone for data_nascimento...\n",
            "✅ Converted to UTC\n",
            "Final data type: datetime64[ns, UTC]\n",
            "Timezone info: UTC\n"
          ]
        }
      ],
      "source": [
        "# Debug and fix data_nascimento column\n",
        "print(\"Debugging data_nascimento column...\")\n",
        "print(f\"Data type: {df_colaboradores['data_nascimento'].dtype}\")\n",
        "print(f\"Sample values: {df_colaboradores['data_nascimento'].head()}\")\n",
        "print(f\"Is datetime: {pd.api.types.is_datetime64_any_dtype(df_colaboradores['data_nascimento'])}\")\n",
        "\n",
        "# Force conversion to datetime if needed\n",
        "if not pd.api.types.is_datetime64_any_dtype(df_colaboradores['data_nascimento']):\n",
        "    print(\"Converting to datetime...\")\n",
        "    df_colaboradores['data_nascimento'] = pd.to_datetime(df_colaboradores['data_nascimento'], format='mixed', errors='coerce')\n",
        "    print(\"✅ Converted to datetime\")\n",
        "\n",
        "# Now fix timezone\n",
        "print(\"Fixing timezone for data_nascimento...\")\n",
        "if df_colaboradores['data_nascimento'].dt.tz is None:\n",
        "    df_colaboradores['data_nascimento'] = df_colaboradores['data_nascimento'].dt.tz_localize('UTC')\n",
        "    print(\"✅ Localized to UTC\")\n",
        "else:\n",
        "    df_colaboradores['data_nascimento'] = df_colaboradores['data_nascimento'].dt.tz_convert('UTC')\n",
        "    print(\"✅ Converted to UTC\")\n",
        "\n",
        "print(f\"Final data type: {df_colaboradores['data_nascimento'].dtype}\")\n",
        "print(f\"Timezone info: {df_colaboradores['data_nascimento'].dt.tz}\")\n"
      ]
    },
    {
      "cell_type": "markdown",
      "metadata": {},
      "source": [
        "# Análise Descritiva - Colaboradores"
      ]
    },
    {
      "cell_type": "code",
      "execution_count": 4,
      "metadata": {},
      "outputs": [
        {
          "name": "stdout",
          "output_type": "stream",
          "text": [
            "\n",
            "👨‍💼 COLABORADORES ANALYSIS\n",
            "==================================================\n",
            "📋 Basic Information:\n",
            "   - Total employees: 100\n",
            "   - Columns: ['cod_colaborador', 'primeiro_nome', 'ultimo_nome', 'email', 'cpf', 'data_nascimento', 'endereco', 'cep']\n",
            "   - Missing values: 0\n",
            "\n",
            "🎂 Employee Age Analysis:\n",
            "   - Average age: 44.8 years\n",
            "   - Age range: 27 - 62 years\n",
            "   - Age distribution:\n",
            "count    100.000000\n",
            "mean      44.790000\n",
            "std       10.830461\n",
            "min       27.000000\n",
            "25%       34.000000\n",
            "50%       46.000000\n",
            "75%       54.250000\n",
            "max       62.000000\n",
            "Name: idade, dtype: float64\n",
            "\n",
            "📝 Name Analysis:\n",
            "   - Most common first name: Clarice\n",
            "   - Most common last name: Lopes\n",
            "   - Unique first names: 79\n",
            "   - Unique last names: 51\n",
            "\n",
            "🆔 CPF Analysis:\n",
            "   - Valid CPF format (11 digits): 0\n",
            "   - Duplicate CPFs: 0\n"
          ]
        }
      ],
      "source": [
        "print(\"\\n👨‍💼 COLABORADORES ANALYSIS\")\n",
        "print(\"=\" * 50)\n",
        "\n",
        "# Basic info\n",
        "print(\"📋 Basic Information:\")\n",
        "print(f\"   - Total employees: {len(df_colaboradores):,}\")\n",
        "print(f\"   - Columns: {list(df_colaboradores.columns)}\")\n",
        "print(f\"   - Missing values: {df_colaboradores.isnull().sum().sum()}\")\n",
        "\n",
        "# Age analysis\n",
        "df_colaboradores['idade'] = (pd.Timestamp.now(tz='UTC') - df_colaboradores['data_nascimento']).dt.days // 365\n",
        "print(f\"\\n🎂 Employee Age Analysis:\")\n",
        "print(f\"   - Average age: {df_colaboradores['idade'].mean():.1f} years\")\n",
        "print(f\"   - Age range: {df_colaboradores['idade'].min()} - {df_colaboradores['idade'].max()} years\")\n",
        "print(f\"   - Age distribution:\")\n",
        "print(df_colaboradores['idade'].describe())\n",
        "\n",
        "# Name analysis\n",
        "print(f\"\\n📝 Name Analysis:\")\n",
        "print(f\"   - Most common first name: {df_colaboradores['primeiro_nome'].value_counts().index[0]}\")\n",
        "print(f\"   - Most common last name: {df_colaboradores['ultimo_nome'].value_counts().index[0]}\")\n",
        "print(f\"   - Unique first names: {df_colaboradores['primeiro_nome'].nunique()}\")\n",
        "print(f\"   - Unique last names: {df_colaboradores['ultimo_nome'].nunique()}\")\n",
        "\n",
        "# CPF analysis\n",
        "print(f\"\\n🆔 CPF Analysis:\")\n",
        "print(f\"   - Valid CPF format (11 digits): {(df_colaboradores['cpf'].str.len() == 11).sum():,}\")\n",
        "print(f\"   - Duplicate CPFs: {df_colaboradores['cpf'].duplicated().sum()}\")\n"
      ]
    },
    {
      "cell_type": "markdown",
      "metadata": {},
      "source": [
        "# Visualizações"
      ]
    },
    {
      "cell_type": "markdown",
      "metadata": {},
      "source": [
        "## Distibuição de idade dos funcionários"
      ]
    },
    {
      "cell_type": "code",
      "execution_count": 5,
      "metadata": {},
      "outputs": [
        {
          "data": {
            "text/plain": [
              "Text(0, 0.5, 'Frequency')"
            ]
          },
          "execution_count": 5,
          "metadata": {},
          "output_type": "execute_result"
        },
        {
          "data": {
            "image/png": "[encoded data removed]",
            "text/plain": [
              "<Figure size 600x600 with 1 Axes>"
            ]
          },
          "metadata": {},
          "output_type": "display_data"
        }
      ],
      "source": [
        "plt.figure(figsize=(6, 6))\n",
        "plt.hist(df_colaboradores['idade'], bins=20, alpha=0.7, color='lightblue', edgecolor='black')\n",
        "plt.title('Employee Age Distribution')\n",
        "plt.xlabel('Age (years)')\n",
        "plt.ylabel('Frequency')\n"
      ]
    },
    {
      "cell_type": "markdown",
      "metadata": {},
      "source": [
        "## Idade de funcionários por faixa etária"
      ]
    },
    {
      "cell_type": "code",
      "execution_count": 6,
      "metadata": {},
      "outputs": [
        {
          "data": {
            "text/plain": [
              "(array([0, 1, 2, 3, 4, 5]),\n",
              " [Text(0, 0, '26-35'),\n",
              "  Text(1, 0, '46-55'),\n",
              "  Text(2, 0, '56-65'),\n",
              "  Text(3, 0, '36-45'),\n",
              "  Text(4, 0, '18-25'),\n",
              "  Text(5, 0, '65+')])"
            ]
          },
          "execution_count": 6,
          "metadata": {},
          "output_type": "execute_result"
        },
        {
          "data": {
            "image/png": "[encoded data removed]",
            "text/plain": [
              "<Figure size 600x600 with 1 Axes>"
            ]
          },
          "metadata": {},
          "output_type": "display_data"
        }
      ],
      "source": [
        "plt.figure(figsize=(6, 6))\n",
        "\n",
        "age_groups = pd.cut(df_colaboradores['idade'], bins=[0, 25, 35, 45, 55, 65, 100], \n",
        "                   labels=['18-25', '26-35', '36-45', '46-55', '56-65', '65+'])\n",
        "age_groups.value_counts().plot(kind='bar', color='orange')\n",
        "plt.title('Employees by Age Groups')\n",
        "plt.xlabel('Age Group')\n",
        "plt.ylabel('Count')\n",
        "plt.xticks(rotation=45)"
      ]
    },
    {
      "cell_type": "markdown",
      "metadata": {},
      "source": [
        "## Resumo"
      ]
    },
    {
      "cell_type": "code",
      "execution_count": 8,
      "metadata": {},
      "outputs": [
        {
          "name": "stdout",
          "output_type": "stream",
          "text": [
            "\n",
            "📊 Summary Statistics:\n",
            "   - Average age: 44.8 years\n",
            "   - Total unique employees: 100\n",
            "   - Age range: 27 - 62 years\n"
          ]
        }
      ],
      "source": [
        "# Summary statistics\n",
        "print(f\"\\n📊 Summary Statistics:\")\n",
        "print(f\"   - Average age: {df_colaboradores['idade'].mean():.1f} years\")\n",
        "print(f\"   - Total unique employees: {len(df_colaboradores):,}\")\n",
        "print(f\"   - Age range: {df_colaboradores['idade'].min()} - {df_colaboradores['idade'].max()} years\")\n"
      ]
    }
  ],
  "metadata": {
    "kernelspec": {
      "display_name": "venv",
      "language": "python",
      "name": "python3"
    },
    "language_info": {
      "codemirror_mode": {
        "name": "ipython",
        "version": 3
      },
      "file_extension": ".py",
      "mimetype": "text/x-python",
      "name": "python",
      "nbconvert_exporter": "python",
      "pygments_lexer": "ipython3",
      "version": "3.10.11"
    }
  },
  "nbformat": 4,
  "nbformat_minor": 2
}
